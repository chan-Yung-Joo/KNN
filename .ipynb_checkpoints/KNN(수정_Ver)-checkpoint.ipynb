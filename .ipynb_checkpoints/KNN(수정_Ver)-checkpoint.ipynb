{
 "cells": [
  {
   "cell_type": "code",
   "execution_count": 1,
   "id": "93566fd0",
   "metadata": {},
   "outputs": [],
   "source": [
    "from sklearn.datasets import load_boston"
   ]
  },
  {
   "cell_type": "code",
   "execution_count": 2,
   "id": "cab1bc7a",
   "metadata": {},
   "outputs": [],
   "source": [
    "import os\n",
    "import numpy as np\n",
    "import pandas as pd\n",
    "from matplotlib import pyplot as plt\n",
    "%matplotlib inline"
   ]
  },
  {
   "cell_type": "code",
   "execution_count": 3,
   "id": "234c440a",
   "metadata": {},
   "outputs": [],
   "source": [
    "boston = load_boston()"
   ]
  },
  {
   "cell_type": "code",
   "execution_count": 4,
   "id": "ab9ba63c",
   "metadata": {},
   "outputs": [
    {
     "data": {
      "text/html": [
       "<div>\n",
       "<style scoped>\n",
       "    .dataframe tbody tr th:only-of-type {\n",
       "        vertical-align: middle;\n",
       "    }\n",
       "\n",
       "    .dataframe tbody tr th {\n",
       "        vertical-align: top;\n",
       "    }\n",
       "\n",
       "    .dataframe thead th {\n",
       "        text-align: right;\n",
       "    }\n",
       "</style>\n",
       "<table border=\"1\" class=\"dataframe\">\n",
       "  <thead>\n",
       "    <tr style=\"text-align: right;\">\n",
       "      <th></th>\n",
       "      <th>CRIM</th>\n",
       "      <th>ZN</th>\n",
       "      <th>INDUS</th>\n",
       "      <th>CHAS</th>\n",
       "      <th>NOX</th>\n",
       "      <th>RM</th>\n",
       "      <th>AGE</th>\n",
       "      <th>DIS</th>\n",
       "      <th>RAD</th>\n",
       "      <th>TAX</th>\n",
       "      <th>PTRATIO</th>\n",
       "      <th>B</th>\n",
       "      <th>LSTAT</th>\n",
       "      <th>Y</th>\n",
       "    </tr>\n",
       "  </thead>\n",
       "  <tbody>\n",
       "    <tr>\n",
       "      <th>0</th>\n",
       "      <td>0.00632</td>\n",
       "      <td>18.0</td>\n",
       "      <td>2.31</td>\n",
       "      <td>0.0</td>\n",
       "      <td>0.538</td>\n",
       "      <td>6.575</td>\n",
       "      <td>65.2</td>\n",
       "      <td>4.0900</td>\n",
       "      <td>1.0</td>\n",
       "      <td>296.0</td>\n",
       "      <td>15.3</td>\n",
       "      <td>396.90</td>\n",
       "      <td>4.98</td>\n",
       "      <td>24.0</td>\n",
       "    </tr>\n",
       "    <tr>\n",
       "      <th>1</th>\n",
       "      <td>0.02731</td>\n",
       "      <td>0.0</td>\n",
       "      <td>7.07</td>\n",
       "      <td>0.0</td>\n",
       "      <td>0.469</td>\n",
       "      <td>6.421</td>\n",
       "      <td>78.9</td>\n",
       "      <td>4.9671</td>\n",
       "      <td>2.0</td>\n",
       "      <td>242.0</td>\n",
       "      <td>17.8</td>\n",
       "      <td>396.90</td>\n",
       "      <td>9.14</td>\n",
       "      <td>21.6</td>\n",
       "    </tr>\n",
       "    <tr>\n",
       "      <th>2</th>\n",
       "      <td>0.02729</td>\n",
       "      <td>0.0</td>\n",
       "      <td>7.07</td>\n",
       "      <td>0.0</td>\n",
       "      <td>0.469</td>\n",
       "      <td>7.185</td>\n",
       "      <td>61.1</td>\n",
       "      <td>4.9671</td>\n",
       "      <td>2.0</td>\n",
       "      <td>242.0</td>\n",
       "      <td>17.8</td>\n",
       "      <td>392.83</td>\n",
       "      <td>4.03</td>\n",
       "      <td>34.7</td>\n",
       "    </tr>\n",
       "    <tr>\n",
       "      <th>3</th>\n",
       "      <td>0.03237</td>\n",
       "      <td>0.0</td>\n",
       "      <td>2.18</td>\n",
       "      <td>0.0</td>\n",
       "      <td>0.458</td>\n",
       "      <td>6.998</td>\n",
       "      <td>45.8</td>\n",
       "      <td>6.0622</td>\n",
       "      <td>3.0</td>\n",
       "      <td>222.0</td>\n",
       "      <td>18.7</td>\n",
       "      <td>394.63</td>\n",
       "      <td>2.94</td>\n",
       "      <td>33.4</td>\n",
       "    </tr>\n",
       "    <tr>\n",
       "      <th>4</th>\n",
       "      <td>0.06905</td>\n",
       "      <td>0.0</td>\n",
       "      <td>2.18</td>\n",
       "      <td>0.0</td>\n",
       "      <td>0.458</td>\n",
       "      <td>7.147</td>\n",
       "      <td>54.2</td>\n",
       "      <td>6.0622</td>\n",
       "      <td>3.0</td>\n",
       "      <td>222.0</td>\n",
       "      <td>18.7</td>\n",
       "      <td>396.90</td>\n",
       "      <td>5.33</td>\n",
       "      <td>36.2</td>\n",
       "    </tr>\n",
       "  </tbody>\n",
       "</table>\n",
       "</div>"
      ],
      "text/plain": [
       "      CRIM    ZN  INDUS  CHAS    NOX     RM   AGE     DIS  RAD    TAX  \\\n",
       "0  0.00632  18.0   2.31   0.0  0.538  6.575  65.2  4.0900  1.0  296.0   \n",
       "1  0.02731   0.0   7.07   0.0  0.469  6.421  78.9  4.9671  2.0  242.0   \n",
       "2  0.02729   0.0   7.07   0.0  0.469  7.185  61.1  4.9671  2.0  242.0   \n",
       "3  0.03237   0.0   2.18   0.0  0.458  6.998  45.8  6.0622  3.0  222.0   \n",
       "4  0.06905   0.0   2.18   0.0  0.458  7.147  54.2  6.0622  3.0  222.0   \n",
       "\n",
       "   PTRATIO       B  LSTAT     Y  \n",
       "0     15.3  396.90   4.98  24.0  \n",
       "1     17.8  396.90   9.14  21.6  \n",
       "2     17.8  392.83   4.03  34.7  \n",
       "3     18.7  394.63   2.94  33.4  \n",
       "4     18.7  396.90   5.33  36.2  "
      ]
     },
     "execution_count": 4,
     "metadata": {},
     "output_type": "execute_result"
    }
   ],
   "source": [
    "X = boston['data']\n",
    "Y = boston['target']\n",
    "\n",
    "X_names = boston['feature_names']\n",
    "\n",
    "total_data = np.concatenate([X,Y.reshape(-1,1)], axis = 1)\n",
    "total_feature_names = np.append(X_names, 'Y')\n",
    "\n",
    "total_data = pd.DataFrame(total_data, columns = total_feature_names)\n",
    "\n",
    "total_data.head()"
   ]
  },
  {
   "cell_type": "code",
   "execution_count": 5,
   "id": "61f8d032",
   "metadata": {},
   "outputs": [],
   "source": [
    "num_train = round(X.shape[0]*0.7)\n",
    "\n",
    "# Train Data와 Test Data로 나누기(70:30 비율로)\n",
    "Train_X = total_data.iloc[:num_train, :-1]\n",
    "Test_X = total_data.iloc[num_train:, :-1]\n",
    "\n",
    "Train_Y = total_data.iloc[:num_train, -1]\n",
    "Test_Y = total_data.iloc[num_train:, -1]"
   ]
  },
  {
   "cell_type": "code",
   "execution_count": 6,
   "id": "0cc8e85e",
   "metadata": {},
   "outputs": [],
   "source": [
    "from sklearn.neighbors import KNeighborsRegressor as knn"
   ]
  },
  {
   "cell_type": "code",
   "execution_count": 7,
   "id": "1ed982b9",
   "metadata": {},
   "outputs": [],
   "source": [
    "KNN = knn() # k=5일 때(Default)"
   ]
  },
  {
   "cell_type": "code",
   "execution_count": 8,
   "id": "b6409b1e",
   "metadata": {},
   "outputs": [
    {
     "data": {
      "text/plain": [
       "KNeighborsRegressor()"
      ]
     },
     "execution_count": 8,
     "metadata": {},
     "output_type": "execute_result"
    }
   ],
   "source": [
    "KNN.fit(Train_X, Train_Y)"
   ]
  },
  {
   "cell_type": "code",
   "execution_count": 9,
   "id": "79af3ede",
   "metadata": {},
   "outputs": [],
   "source": [
    "pred = KNN.predict(Test_X)"
   ]
  },
  {
   "cell_type": "code",
   "execution_count": 10,
   "id": "1833d12d",
   "metadata": {},
   "outputs": [
    {
     "data": {
      "text/plain": [
       "array([26.78, 28.58, 18.34, 16.98, 17.48, 16.36, 18.78, 18.34, 18.78,\n",
       "       18.34, 18.34, 18.34, 18.12, 14.74, 19.38, 18.78, 19.56, 18.34,\n",
       "       18.34, 15.68, 15.68, 18.56, 18.34, 16.48, 16.48, 16.48, 17.74,\n",
       "       16.48, 16.48, 16.48, 18.12, 15.68, 15.74, 14.98, 16.4 , 16.48,\n",
       "       17.06, 18.34, 15.74, 17.74, 17.74, 16.72, 17.42, 16.86, 15.74,\n",
       "       17.8 , 15.74, 17.42, 18.34, 17.74, 17.8 , 15.8 , 18.34, 19.6 ,\n",
       "       18.12, 18.76, 15.34, 15.34, 15.34, 18.76, 15.34, 15.34, 15.34,\n",
       "       14.74, 15.34, 15.34, 18.12, 18.12, 18.12, 15.34, 15.34, 15.34,\n",
       "       15.34, 15.34, 15.34, 15.34, 15.34, 15.34, 14.74, 14.74, 14.74,\n",
       "       14.74, 15.34, 15.34, 15.34, 16.48, 15.34, 16.16, 17.98, 17.96,\n",
       "       19.74, 15.34, 18.12, 18.92, 17.42, 18.12, 15.34, 18.34, 16.98,\n",
       "       18.34, 15.34, 15.34, 15.34, 15.34, 18.12, 17.48, 18.12, 16.98,\n",
       "       17.48, 18.46, 16.36, 18.96, 15.34, 19.6 , 18.34, 16.36, 17.36,\n",
       "       17.22, 16.36, 18.34, 18.34, 18.12, 17.06, 18.34, 18.34, 18.78,\n",
       "       17.48, 17.48, 17.48, 16.98, 17.6 , 16.6 , 16.36, 16.6 , 17.06,\n",
       "       18.34, 18.12, 16.98, 17.48, 22.32, 21.08, 21.66, 22.64, 23.08,\n",
       "       23.46, 22.76, 22.76, 21.48, 25.94, 23.7 , 23.7 , 27.2 ])"
      ]
     },
     "execution_count": 10,
     "metadata": {},
     "output_type": "execute_result"
    }
   ],
   "source": [
    "pred"
   ]
  },
  {
   "cell_type": "code",
   "execution_count": 11,
   "id": "376b8dcc",
   "metadata": {},
   "outputs": [],
   "source": [
    "from sklearn.metrics import mean_absolute_percentage_error as MAPE"
   ]
  },
  {
   "cell_type": "code",
   "execution_count": 12,
   "id": "11996ecd",
   "metadata": {},
   "outputs": [
    {
     "data": {
      "text/plain": [
       "39.750707963969774"
      ]
     },
     "execution_count": 12,
     "metadata": {},
     "output_type": "execute_result"
    }
   ],
   "source": [
    "MAPE(Test_Y, pred)*100"
   ]
  },
  {
   "cell_type": "markdown",
   "id": "105ab6b6",
   "metadata": {},
   "source": [
    "# k 값을 변경해보자!"
   ]
  },
  {
   "cell_type": "code",
   "execution_count": 13,
   "id": "85ed74fd",
   "metadata": {},
   "outputs": [],
   "source": [
    "KNN2 = knn(n_neighbors=1)\n",
    "KNN3 = knn(n_neighbors = 100)"
   ]
  },
  {
   "cell_type": "code",
   "execution_count": 14,
   "id": "48ebf7df",
   "metadata": {},
   "outputs": [
    {
     "data": {
      "text/plain": [
       "KNeighborsRegressor(n_neighbors=100)"
      ]
     },
     "execution_count": 14,
     "metadata": {},
     "output_type": "execute_result"
    }
   ],
   "source": [
    "KNN2.fit(Train_X, Train_Y)\n",
    "KNN3.fit(Train_X, Train_Y)"
   ]
  },
  {
   "cell_type": "code",
   "execution_count": 15,
   "id": "ea90f463",
   "metadata": {},
   "outputs": [],
   "source": [
    "pred2 = KNN2.predict(Test_X)"
   ]
  },
  {
   "cell_type": "code",
   "execution_count": 16,
   "id": "555017d7",
   "metadata": {},
   "outputs": [
    {
     "data": {
      "text/plain": [
       "array([23.5, 23.5, 18.9, 18.9, 18.9, 18.9, 18.9, 18.9, 18.9, 18.9, 18.9,\n",
       "       18.9, 18.9, 15.6, 18.9, 18.9, 18.9, 18.9, 18.9, 18.9, 18.9, 18.9,\n",
       "       18.9, 18.9, 18.9, 18.9, 18.9, 18.9, 18.9, 18.9, 15.6, 18.9, 18.9,\n",
       "       18.9, 18.9, 18.9, 18.9, 18.9, 18.9, 18.9, 18.9, 18.9, 18.9, 18.9,\n",
       "       18.9, 18.9, 18.9, 18.9, 18.9, 18.9, 18.9, 18.9, 18.9, 18.9, 18.9,\n",
       "       15.6, 13.1, 13.1, 13.1, 15.6, 13.1, 13.1, 15.6, 13.1, 13.1, 15.6,\n",
       "       18.9, 18.9, 15.6, 15.6, 15.6, 13.1, 15.6, 15.6, 15.6, 13.1, 15.6,\n",
       "       13.1, 15.6, 13.1, 13.1, 13.1, 13.1, 13.1, 15.6, 18.9, 18.9, 18.9,\n",
       "       18.9, 18.9, 15.6, 13.1, 18.9, 18.9, 18.9, 15.6, 15.6, 18.9, 18.9,\n",
       "       18.9, 13.1, 15.6, 15.6, 15.6, 15.6, 18.9, 15.6, 18.9, 18.9, 18.9,\n",
       "       18.9, 18.9, 15.6, 18.9, 18.9, 18.9, 18.9, 18.9, 18.9, 18.9, 18.9,\n",
       "       15.6, 18.9, 18.9, 18.9, 18.9, 18.9, 18.9, 18.9, 18.9, 18.9, 18.9,\n",
       "       18.9, 18.9, 18.9, 18.9, 18.9, 18.9, 18.9, 21.7, 20.3, 20.3, 26.5,\n",
       "       26.5, 26.5, 26.5, 27.5, 22.6, 22. , 23. , 23. , 28.7])"
      ]
     },
     "execution_count": 16,
     "metadata": {},
     "output_type": "execute_result"
    }
   ],
   "source": [
    "pred2"
   ]
  },
  {
   "cell_type": "code",
   "execution_count": 17,
   "id": "e071da19",
   "metadata": {},
   "outputs": [
    {
     "data": {
      "text/plain": [
       "43.033003679300094"
      ]
     },
     "execution_count": 17,
     "metadata": {},
     "output_type": "execute_result"
    }
   ],
   "source": [
    "MAPE(Test_Y, pred2)*100"
   ]
  },
  {
   "cell_type": "code",
   "execution_count": 18,
   "id": "1a6ac3e2",
   "metadata": {},
   "outputs": [],
   "source": [
    "# 만약, Train_X로 학습하면 어떻게 될까?\n",
    "Train_pred1 = KNN.predict(Train_X)\n",
    "Train_pred2 = KNN2.predict(Train_X)\n",
    "Train_pred3 = KNN3.predict(Train_X)"
   ]
  },
  {
   "cell_type": "code",
   "execution_count": 19,
   "id": "4c6a9844",
   "metadata": {},
   "outputs": [
    {
     "name": "stdout",
     "output_type": "stream",
     "text": [
      "Train_pred1: 13.94%\n",
      "Train_pred2: 0.00%\n",
      "Train_pred3: 23.26%\n"
     ]
    }
   ],
   "source": [
    "print(\"Train_pred1: %.2f%%\"%(MAPE(Train_Y, Train_pred1)*100))\n",
    "print(\"Train_pred2: %.2f%%\"%(MAPE(Train_Y, Train_pred2)*100))\n",
    "print(\"Train_pred3: %.2f%%\"%(MAPE(Train_Y, Train_pred3)*100))"
   ]
  },
  {
   "cell_type": "markdown",
   "id": "a1dc6dc1",
   "metadata": {},
   "source": [
    "# Validation 데이터 추가"
   ]
  },
  {
   "cell_type": "code",
   "execution_count": 20,
   "id": "13d6724c",
   "metadata": {},
   "outputs": [],
   "source": [
    "num_temp = round(total_data.shape[0]*0.7)\n",
    "\n",
    "# Train Data와 Test Data, Validation으로 나누기\n",
    "TEMP_X = total_data.iloc[:num_temp, :-1]\n",
    "TEMP_Y = total_data.iloc[:num_temp, -1]\n",
    "\n",
    "true_num_train = round(TEMP_X.shape[0]*0.7)\n",
    "\n",
    "train_X = TEMP_X.iloc[:true_num_train]\n",
    "vali_X = TEMP_X.iloc[true_num_train: , :]\n",
    "\n",
    "train_Y = TEMP_Y.iloc[:true_num_train]\n",
    "vali_Y = TEMP_Y.iloc[true_num_train:]\n",
    "\n",
    "test_X = total_data.iloc[num_temp:, :-1]\n",
    "test_Y = total_data.iloc[num_temp:, -1]"
   ]
  },
  {
   "cell_type": "markdown",
   "id": "2fc7c92b",
   "metadata": {},
   "source": [
    "## Validation Data를 이용하여 최적의 K값을 찾아보자!"
   ]
  },
  {
   "cell_type": "code",
   "execution_count": 21,
   "id": "79b16dba",
   "metadata": {},
   "outputs": [],
   "source": [
    "select_k = np.array(range(1,21,1))"
   ]
  },
  {
   "cell_type": "code",
   "execution_count": 23,
   "id": "87c37e39",
   "metadata": {},
   "outputs": [],
   "source": [
    "obs_MAPE = []\n",
    "\n",
    "# 반복적으로 학습을 진행함!\n",
    "for k in select_k:\n",
    "    new_KNN = knn(n_neighbors = k)\n",
    "    \n",
    "    new_KNN.fit(train_X, train_Y)\n",
    "    validation_pred = new_KNN.predict(vali_X)\n",
    "    \n",
    "    validation_MAPE = MAPE(vali_Y, validation_pred)\n",
    "    obs_MAPE.append(validation_MAPE)\n",
    "\n",
    "# 이걸 해결 하자..? (해결 완료)"
   ]
  },
  {
   "cell_type": "code",
   "execution_count": 24,
   "id": "8a1f43fd",
   "metadata": {},
   "outputs": [],
   "source": [
    "best_res = np.where(obs_MAPE == min(obs_MAPE))[0][0]"
   ]
  },
  {
   "cell_type": "code",
   "execution_count": 27,
   "id": "5d0f67b9",
   "metadata": {},
   "outputs": [
    {
     "data": {
      "text/plain": [
       "array([ 1,  2,  3,  4,  5,  6,  7,  8,  9, 10, 11, 12, 13, 14, 15, 16, 17,\n",
       "       18, 19, 20])"
      ]
     },
     "execution_count": 27,
     "metadata": {},
     "output_type": "execute_result"
    }
   ],
   "source": [
    "select_k"
   ]
  },
  {
   "cell_type": "code",
   "execution_count": 26,
   "id": "24b1422b",
   "metadata": {},
   "outputs": [
    {
     "data": {
      "text/plain": [
       "17"
      ]
     },
     "execution_count": 26,
     "metadata": {},
     "output_type": "execute_result"
    }
   ],
   "source": [
    "best_res"
   ]
  },
  {
   "cell_type": "code",
   "execution_count": 25,
   "id": "dd4e2fd1",
   "metadata": {},
   "outputs": [
    {
     "data": {
      "text/plain": [
       "18"
      ]
     },
     "execution_count": 25,
     "metadata": {},
     "output_type": "execute_result"
    }
   ],
   "source": [
    "select_k[best_res]"
   ]
  },
  {
   "cell_type": "code",
   "execution_count": 28,
   "id": "172bd008",
   "metadata": {},
   "outputs": [],
   "source": [
    "basic_knn = knn()"
   ]
  },
  {
   "cell_type": "code",
   "execution_count": 29,
   "id": "0bc3678e",
   "metadata": {},
   "outputs": [
    {
     "data": {
      "text/plain": [
       "KNeighborsRegressor()"
      ]
     },
     "execution_count": 29,
     "metadata": {},
     "output_type": "execute_result"
    }
   ],
   "source": [
    "basic_knn.fit(train_X, train_Y)"
   ]
  },
  {
   "cell_type": "code",
   "execution_count": 30,
   "id": "c460cf8d",
   "metadata": {},
   "outputs": [],
   "source": [
    "test_pred_basic = basic_knn.predict(Test_X)"
   ]
  },
  {
   "cell_type": "code",
   "execution_count": 31,
   "id": "70259317",
   "metadata": {},
   "outputs": [],
   "source": [
    "best_k = select_k[best_res]"
   ]
  },
  {
   "cell_type": "code",
   "execution_count": 32,
   "id": "bc26a404",
   "metadata": {},
   "outputs": [],
   "source": [
    "best_knn = knn(n_neighbors = best_k)"
   ]
  },
  {
   "cell_type": "code",
   "execution_count": 33,
   "id": "da5f397b",
   "metadata": {},
   "outputs": [
    {
     "data": {
      "text/plain": [
       "KNeighborsRegressor(n_neighbors=18)"
      ]
     },
     "execution_count": 33,
     "metadata": {},
     "output_type": "execute_result"
    }
   ],
   "source": [
    "best_knn.fit(train_X, train_Y)"
   ]
  },
  {
   "cell_type": "code",
   "execution_count": 34,
   "id": "5650ce7a",
   "metadata": {},
   "outputs": [],
   "source": [
    "test_pred = best_knn.predict(Test_X)"
   ]
  },
  {
   "cell_type": "code",
   "execution_count": 35,
   "id": "e9d471d9",
   "metadata": {},
   "outputs": [
    {
     "name": "stdout",
     "output_type": "stream",
     "text": [
      "47.057455761423526\n",
      "39.99301690771256\n"
     ]
    }
   ],
   "source": [
    "print(MAPE(Test_Y, test_pred)*100)\n",
    "print(MAPE(Test_Y, test_pred_basic)*100)"
   ]
  }
 ],
 "metadata": {
  "kernelspec": {
   "display_name": "Python 3 (ipykernel)",
   "language": "python",
   "name": "python3"
  },
  "language_info": {
   "codemirror_mode": {
    "name": "ipython",
    "version": 3
   },
   "file_extension": ".py",
   "mimetype": "text/x-python",
   "name": "python",
   "nbconvert_exporter": "python",
   "pygments_lexer": "ipython3",
   "version": "3.9.7"
  }
 },
 "nbformat": 4,
 "nbformat_minor": 5
}
