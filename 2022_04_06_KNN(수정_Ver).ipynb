{
 "cells": [
  {
   "cell_type": "code",
   "execution_count": 1,
   "id": "93566fd0",
   "metadata": {},
   "outputs": [],
   "source": [
    "from sklearn.datasets import load_boston"
   ]
  },
  {
   "cell_type": "code",
   "execution_count": 2,
   "id": "cab1bc7a",
   "metadata": {},
   "outputs": [],
   "source": [
    "import os\n",
    "import numpy as np\n",
    "import pandas as pd\n",
    "from matplotlib import pyplot as plt\n",
    "%matplotlib inline"
   ]
  },
  {
   "cell_type": "code",
   "execution_count": 3,
   "id": "234c440a",
   "metadata": {},
   "outputs": [],
   "source": [
    "boston = load_boston()"
   ]
  },
  {
   "cell_type": "code",
   "execution_count": 6,
   "id": "ab9ba63c",
   "metadata": {},
   "outputs": [
    {
     "data": {
      "text/html": [
       "<div>\n",
       "<style scoped>\n",
       "    .dataframe tbody tr th:only-of-type {\n",
       "        vertical-align: middle;\n",
       "    }\n",
       "\n",
       "    .dataframe tbody tr th {\n",
       "        vertical-align: top;\n",
       "    }\n",
       "\n",
       "    .dataframe thead th {\n",
       "        text-align: right;\n",
       "    }\n",
       "</style>\n",
       "<table border=\"1\" class=\"dataframe\">\n",
       "  <thead>\n",
       "    <tr style=\"text-align: right;\">\n",
       "      <th></th>\n",
       "      <th>CRIM</th>\n",
       "      <th>ZN</th>\n",
       "      <th>INDUS</th>\n",
       "      <th>CHAS</th>\n",
       "      <th>NOX</th>\n",
       "      <th>RM</th>\n",
       "      <th>AGE</th>\n",
       "      <th>DIS</th>\n",
       "      <th>RAD</th>\n",
       "      <th>TAX</th>\n",
       "      <th>PTRATIO</th>\n",
       "      <th>B</th>\n",
       "      <th>LSTAT</th>\n",
       "      <th>Y</th>\n",
       "    </tr>\n",
       "  </thead>\n",
       "  <tbody>\n",
       "    <tr>\n",
       "      <th>0</th>\n",
       "      <td>0.00632</td>\n",
       "      <td>18.0</td>\n",
       "      <td>2.31</td>\n",
       "      <td>0.0</td>\n",
       "      <td>0.538</td>\n",
       "      <td>6.575</td>\n",
       "      <td>65.2</td>\n",
       "      <td>4.0900</td>\n",
       "      <td>1.0</td>\n",
       "      <td>296.0</td>\n",
       "      <td>15.3</td>\n",
       "      <td>396.90</td>\n",
       "      <td>4.98</td>\n",
       "      <td>24.0</td>\n",
       "    </tr>\n",
       "    <tr>\n",
       "      <th>1</th>\n",
       "      <td>0.02731</td>\n",
       "      <td>0.0</td>\n",
       "      <td>7.07</td>\n",
       "      <td>0.0</td>\n",
       "      <td>0.469</td>\n",
       "      <td>6.421</td>\n",
       "      <td>78.9</td>\n",
       "      <td>4.9671</td>\n",
       "      <td>2.0</td>\n",
       "      <td>242.0</td>\n",
       "      <td>17.8</td>\n",
       "      <td>396.90</td>\n",
       "      <td>9.14</td>\n",
       "      <td>21.6</td>\n",
       "    </tr>\n",
       "    <tr>\n",
       "      <th>2</th>\n",
       "      <td>0.02729</td>\n",
       "      <td>0.0</td>\n",
       "      <td>7.07</td>\n",
       "      <td>0.0</td>\n",
       "      <td>0.469</td>\n",
       "      <td>7.185</td>\n",
       "      <td>61.1</td>\n",
       "      <td>4.9671</td>\n",
       "      <td>2.0</td>\n",
       "      <td>242.0</td>\n",
       "      <td>17.8</td>\n",
       "      <td>392.83</td>\n",
       "      <td>4.03</td>\n",
       "      <td>34.7</td>\n",
       "    </tr>\n",
       "    <tr>\n",
       "      <th>3</th>\n",
       "      <td>0.03237</td>\n",
       "      <td>0.0</td>\n",
       "      <td>2.18</td>\n",
       "      <td>0.0</td>\n",
       "      <td>0.458</td>\n",
       "      <td>6.998</td>\n",
       "      <td>45.8</td>\n",
       "      <td>6.0622</td>\n",
       "      <td>3.0</td>\n",
       "      <td>222.0</td>\n",
       "      <td>18.7</td>\n",
       "      <td>394.63</td>\n",
       "      <td>2.94</td>\n",
       "      <td>33.4</td>\n",
       "    </tr>\n",
       "    <tr>\n",
       "      <th>4</th>\n",
       "      <td>0.06905</td>\n",
       "      <td>0.0</td>\n",
       "      <td>2.18</td>\n",
       "      <td>0.0</td>\n",
       "      <td>0.458</td>\n",
       "      <td>7.147</td>\n",
       "      <td>54.2</td>\n",
       "      <td>6.0622</td>\n",
       "      <td>3.0</td>\n",
       "      <td>222.0</td>\n",
       "      <td>18.7</td>\n",
       "      <td>396.90</td>\n",
       "      <td>5.33</td>\n",
       "      <td>36.2</td>\n",
       "    </tr>\n",
       "  </tbody>\n",
       "</table>\n",
       "</div>"
      ],
      "text/plain": [
       "      CRIM    ZN  INDUS  CHAS    NOX     RM   AGE     DIS  RAD    TAX  \\\n",
       "0  0.00632  18.0   2.31   0.0  0.538  6.575  65.2  4.0900  1.0  296.0   \n",
       "1  0.02731   0.0   7.07   0.0  0.469  6.421  78.9  4.9671  2.0  242.0   \n",
       "2  0.02729   0.0   7.07   0.0  0.469  7.185  61.1  4.9671  2.0  242.0   \n",
       "3  0.03237   0.0   2.18   0.0  0.458  6.998  45.8  6.0622  3.0  222.0   \n",
       "4  0.06905   0.0   2.18   0.0  0.458  7.147  54.2  6.0622  3.0  222.0   \n",
       "\n",
       "   PTRATIO       B  LSTAT     Y  \n",
       "0     15.3  396.90   4.98  24.0  \n",
       "1     17.8  396.90   9.14  21.6  \n",
       "2     17.8  392.83   4.03  34.7  \n",
       "3     18.7  394.63   2.94  33.4  \n",
       "4     18.7  396.90   5.33  36.2  "
      ]
     },
     "execution_count": 6,
     "metadata": {},
     "output_type": "execute_result"
    }
   ],
   "source": [
    "X = boston['data']\n",
    "Y = boston['target']\n",
    "\n",
    "X_names = boston['feature_names']\n",
    "\n",
    "total_data = np.concatenate([X,Y.reshape(-1,1)], axis = 1)\n",
    "total_feature_names = np.append(X_names, 'Y')\n",
    "\n",
    "total_data = pd.DataFrame(total_data, columns = total_feature_names)\n",
    "\n",
    "total_data.head()"
   ]
  },
  {
   "cell_type": "code",
   "execution_count": 7,
   "id": "61f8d032",
   "metadata": {},
   "outputs": [],
   "source": [
    "num_train = round(X.shape[0]*0.7)\n",
    "\n",
    "# Train Data와 Test Data로 나누기(70:30 비율로)\n",
    "Train_X = total_data.iloc[:num_train, :-1]\n",
    "Test_X = total_data.iloc[num_train:, :-1]\n",
    "\n",
    "Train_Y = total_data.iloc[:num_train, -1]\n",
    "Test_Y = total_data.iloc[num_train:, -1]"
   ]
  },
  {
   "cell_type": "code",
   "execution_count": 12,
   "id": "0cc8e85e",
   "metadata": {},
   "outputs": [],
   "source": [
    "from sklearn.neighbors import KNeighborsRegressor as knn"
   ]
  },
  {
   "cell_type": "code",
   "execution_count": 13,
   "id": "1ed982b9",
   "metadata": {},
   "outputs": [],
   "source": [
    "KNN = knn() # k=5일 때(Default)"
   ]
  },
  {
   "cell_type": "code",
   "execution_count": 14,
   "id": "b6409b1e",
   "metadata": {},
   "outputs": [
    {
     "data": {
      "text/plain": [
       "KNeighborsRegressor()"
      ]
     },
     "execution_count": 14,
     "metadata": {},
     "output_type": "execute_result"
    }
   ],
   "source": [
    "KNN.fit(Train_X, Train_Y)"
   ]
  },
  {
   "cell_type": "code",
   "execution_count": 15,
   "id": "79af3ede",
   "metadata": {},
   "outputs": [],
   "source": [
    "pred = KNN.predict(Test_X)"
   ]
  },
  {
   "cell_type": "code",
   "execution_count": 16,
   "id": "1833d12d",
   "metadata": {},
   "outputs": [
    {
     "data": {
      "text/plain": [
       "array([26.78, 28.58, 18.34, 16.98, 17.48, 16.36, 18.78, 18.34, 18.78,\n",
       "       18.34, 18.34, 18.34, 18.12, 14.74, 19.38, 18.78, 19.56, 18.34,\n",
       "       18.34, 15.68, 15.68, 18.56, 18.34, 16.48, 16.48, 16.48, 17.74,\n",
       "       16.48, 16.48, 16.48, 18.12, 15.68, 15.74, 14.98, 16.4 , 16.48,\n",
       "       17.06, 18.34, 15.74, 17.74, 17.74, 16.72, 17.42, 16.86, 15.74,\n",
       "       17.8 , 15.74, 17.42, 18.34, 17.74, 17.8 , 15.8 , 18.34, 19.6 ,\n",
       "       18.12, 18.76, 15.34, 15.34, 15.34, 18.76, 15.34, 15.34, 15.34,\n",
       "       14.74, 15.34, 15.34, 18.12, 18.12, 18.12, 15.34, 15.34, 15.34,\n",
       "       15.34, 15.34, 15.34, 15.34, 15.34, 15.34, 14.74, 14.74, 14.74,\n",
       "       14.74, 15.34, 15.34, 15.34, 16.48, 15.34, 16.16, 17.98, 17.96,\n",
       "       19.74, 15.34, 18.12, 18.92, 17.42, 18.12, 15.34, 18.34, 16.98,\n",
       "       18.34, 15.34, 15.34, 15.34, 15.34, 18.12, 17.48, 18.12, 16.98,\n",
       "       17.48, 18.46, 16.36, 18.96, 15.34, 19.6 , 18.34, 16.36, 17.36,\n",
       "       17.22, 16.36, 18.34, 18.34, 18.12, 17.06, 18.34, 18.34, 18.78,\n",
       "       17.48, 17.48, 17.48, 16.98, 17.6 , 16.6 , 16.36, 16.6 , 17.06,\n",
       "       18.34, 18.12, 16.98, 17.48, 22.32, 21.08, 21.66, 22.64, 23.08,\n",
       "       23.46, 22.76, 22.76, 21.48, 25.94, 23.7 , 23.7 , 27.2 ])"
      ]
     },
     "execution_count": 16,
     "metadata": {},
     "output_type": "execute_result"
    }
   ],
   "source": [
    "pred"
   ]
  },
  {
   "cell_type": "code",
   "execution_count": 18,
   "id": "376b8dcc",
   "metadata": {},
   "outputs": [],
   "source": [
    "from sklearn.metrics import mean_absolute_percentage_error as MAPE"
   ]
  },
  {
   "cell_type": "code",
   "execution_count": 19,
   "id": "11996ecd",
   "metadata": {},
   "outputs": [
    {
     "data": {
      "text/plain": [
       "39.750707963969774"
      ]
     },
     "execution_count": 19,
     "metadata": {},
     "output_type": "execute_result"
    }
   ],
   "source": [
    "MAPE(Test_Y, pred)*100"
   ]
  },
  {
   "cell_type": "markdown",
   "id": "105ab6b6",
   "metadata": {},
   "source": [
    "# k 값을 변경해보자!"
   ]
  },
  {
   "cell_type": "code",
   "execution_count": 34,
   "id": "85ed74fd",
   "metadata": {},
   "outputs": [],
   "source": [
    "KNN2 = knn(n_neighbors=1)\n",
    "KNN3 = knn(n_neighbors = 100)"
   ]
  },
  {
   "cell_type": "code",
   "execution_count": 35,
   "id": "48ebf7df",
   "metadata": {},
   "outputs": [
    {
     "data": {
      "text/plain": [
       "KNeighborsRegressor(n_neighbors=100)"
      ]
     },
     "execution_count": 35,
     "metadata": {},
     "output_type": "execute_result"
    }
   ],
   "source": [
    "KNN2.fit(Train_X, Train_Y)\n",
    "KNN3.fit(Train_X, Train_Y)"
   ]
  },
  {
   "cell_type": "code",
   "execution_count": 23,
   "id": "ea90f463",
   "metadata": {},
   "outputs": [],
   "source": [
    "pred2 = KNN2.predict(Test_X)"
   ]
  },
  {
   "cell_type": "code",
   "execution_count": 24,
   "id": "555017d7",
   "metadata": {},
   "outputs": [
    {
     "data": {
      "text/plain": [
       "array([23.5, 23.5, 18.9, 18.9, 18.9, 18.9, 18.9, 18.9, 18.9, 18.9, 18.9,\n",
       "       18.9, 18.9, 15.6, 18.9, 18.9, 18.9, 18.9, 18.9, 18.9, 18.9, 18.9,\n",
       "       18.9, 18.9, 18.9, 18.9, 18.9, 18.9, 18.9, 18.9, 15.6, 18.9, 18.9,\n",
       "       18.9, 18.9, 18.9, 18.9, 18.9, 18.9, 18.9, 18.9, 18.9, 18.9, 18.9,\n",
       "       18.9, 18.9, 18.9, 18.9, 18.9, 18.9, 18.9, 18.9, 18.9, 18.9, 18.9,\n",
       "       15.6, 13.1, 13.1, 13.1, 15.6, 13.1, 13.1, 15.6, 13.1, 13.1, 15.6,\n",
       "       18.9, 18.9, 15.6, 15.6, 15.6, 13.1, 15.6, 15.6, 15.6, 13.1, 15.6,\n",
       "       13.1, 15.6, 13.1, 13.1, 13.1, 13.1, 13.1, 15.6, 18.9, 18.9, 18.9,\n",
       "       18.9, 18.9, 15.6, 13.1, 18.9, 18.9, 18.9, 15.6, 15.6, 18.9, 18.9,\n",
       "       18.9, 13.1, 15.6, 15.6, 15.6, 15.6, 18.9, 15.6, 18.9, 18.9, 18.9,\n",
       "       18.9, 18.9, 15.6, 18.9, 18.9, 18.9, 18.9, 18.9, 18.9, 18.9, 18.9,\n",
       "       15.6, 18.9, 18.9, 18.9, 18.9, 18.9, 18.9, 18.9, 18.9, 18.9, 18.9,\n",
       "       18.9, 18.9, 18.9, 18.9, 18.9, 18.9, 18.9, 21.7, 20.3, 20.3, 26.5,\n",
       "       26.5, 26.5, 26.5, 27.5, 22.6, 22. , 23. , 23. , 28.7])"
      ]
     },
     "execution_count": 24,
     "metadata": {},
     "output_type": "execute_result"
    }
   ],
   "source": [
    "pred2"
   ]
  },
  {
   "cell_type": "code",
   "execution_count": 25,
   "id": "e071da19",
   "metadata": {},
   "outputs": [
    {
     "data": {
      "text/plain": [
       "43.033003679300094"
      ]
     },
     "execution_count": 25,
     "metadata": {},
     "output_type": "execute_result"
    }
   ],
   "source": [
    "MAPE(Test_Y, pred2)*100"
   ]
  },
  {
   "cell_type": "code",
   "execution_count": 36,
   "id": "1a6ac3e2",
   "metadata": {},
   "outputs": [],
   "source": [
    "# 만약, Train_X로 학습하면 어떻게 될까?\n",
    "Train_pred1 = KNN.predict(Train_X)\n",
    "Train_pred2 = KNN2.predict(Train_X)\n",
    "Train_pred3 = KNN3.predict(Train_X)"
   ]
  },
  {
   "cell_type": "code",
   "execution_count": 43,
   "id": "4c6a9844",
   "metadata": {},
   "outputs": [
    {
     "name": "stdout",
     "output_type": "stream",
     "text": [
      "Train_pred1: 13.94%\n",
      "Train_pred2: 0.00%\n",
      "Train_pred3: 23.26%\n"
     ]
    }
   ],
   "source": [
    "print(\"Train_pred1: %.2f%%\"%(MAPE(Train_Y, Train_pred1)*100))\n",
    "print(\"Train_pred2: %.2f%%\"%(MAPE(Train_Y, Train_pred2)*100))\n",
    "print(\"Train_pred3: %.2f%%\"%(MAPE(Train_Y, Train_pred3)*100))"
   ]
  },
  {
   "cell_type": "markdown",
   "id": "a1dc6dc1",
   "metadata": {},
   "source": [
    "# Validation 데이터 추가"
   ]
  },
  {
   "cell_type": "code",
   "execution_count": 72,
   "id": "13d6724c",
   "metadata": {},
   "outputs": [],
   "source": [
    "num_train2 = round(total_data.shape[0]*0.7)\n",
    "\n",
    "# Train Data와 Test Data, Validation으로 나누기\n",
    "TEMP_X = total_data.iloc[:num_train2, :-1]\n",
    "TEMP_Y = total_data.iloc[num_train2: , -1]\n",
    "\n",
    "true_num_train = round(TEMP_X.shape[0]*0.7)\n",
    "\n",
    "train_X = TEMP_X.iloc[:true_num_train, :]\n",
    "vali_X = TEMP_X.iloc[true_num_train: , :]\n",
    "\n",
    "train_Y = TEMP_Y.iloc[:true_num_train]\n",
    "vali_Y = TEMP_Y.iloc[true_num_train:]\n",
    "\n",
    "test_X = total_data.iloc[num_train2:, :-1]\n",
    "test_Y = total_data.iloc[num_train2:, -1]"
   ]
  },
  {
   "cell_type": "markdown",
   "id": "2fc7c92b",
   "metadata": {},
   "source": [
    "## Validation Data를 이용하여 최적의 K값을 찾아보자!"
   ]
  },
  {
   "cell_type": "code",
   "execution_count": 80,
   "id": "79b16dba",
   "metadata": {},
   "outputs": [],
   "source": [
    "select_k = np.array(range(1,21,1))"
   ]
  },
  {
   "cell_type": "code",
   "execution_count": 79,
   "id": "87c37e39",
   "metadata": {},
   "outputs": [
    {
     "ename": "ValueError",
     "evalue": "Found input variables with inconsistent numbers of samples: [248, 152]",
     "output_type": "error",
     "traceback": [
      "\u001b[1;31m---------------------------------------------------------------------------\u001b[0m",
      "\u001b[1;31mValueError\u001b[0m                                Traceback (most recent call last)",
      "\u001b[1;32m<ipython-input-79-056cd2dfc340>\u001b[0m in \u001b[0;36m<module>\u001b[1;34m\u001b[0m\n\u001b[0;32m      4\u001b[0m     \u001b[0mnew_KNN\u001b[0m \u001b[1;33m=\u001b[0m \u001b[0mknn\u001b[0m\u001b[1;33m(\u001b[0m\u001b[0mn_neighbors\u001b[0m \u001b[1;33m=\u001b[0m \u001b[0mk\u001b[0m\u001b[1;33m)\u001b[0m\u001b[1;33m\u001b[0m\u001b[1;33m\u001b[0m\u001b[0m\n\u001b[0;32m      5\u001b[0m \u001b[1;33m\u001b[0m\u001b[0m\n\u001b[1;32m----> 6\u001b[1;33m     \u001b[0mnew_KNN\u001b[0m\u001b[1;33m.\u001b[0m\u001b[0mfit\u001b[0m\u001b[1;33m(\u001b[0m\u001b[0mtrain_X\u001b[0m\u001b[1;33m,\u001b[0m \u001b[0mtrain_Y\u001b[0m\u001b[1;33m)\u001b[0m\u001b[1;33m\u001b[0m\u001b[1;33m\u001b[0m\u001b[0m\n\u001b[0m\u001b[0;32m      7\u001b[0m     \u001b[0mvalidation_pred\u001b[0m \u001b[1;33m=\u001b[0m \u001b[0mnew_KNN\u001b[0m\u001b[1;33m.\u001b[0m\u001b[0mpredict\u001b[0m\u001b[1;33m(\u001b[0m\u001b[0mvali_X\u001b[0m\u001b[1;33m)\u001b[0m\u001b[1;33m\u001b[0m\u001b[1;33m\u001b[0m\u001b[0m\n\u001b[0;32m      8\u001b[0m \u001b[1;33m\u001b[0m\u001b[0m\n",
      "\u001b[1;32m~\\anaconda3\\lib\\site-packages\\sklearn\\neighbors\\_regression.py\u001b[0m in \u001b[0;36mfit\u001b[1;34m(self, X, y)\u001b[0m\n\u001b[0;32m    188\u001b[0m             \u001b[0mThe\u001b[0m \u001b[0mfitted\u001b[0m \u001b[0mk\u001b[0m\u001b[1;33m-\u001b[0m\u001b[0mnearest\u001b[0m \u001b[0mneighbors\u001b[0m \u001b[0mregressor\u001b[0m\u001b[1;33m.\u001b[0m\u001b[1;33m\u001b[0m\u001b[1;33m\u001b[0m\u001b[0m\n\u001b[0;32m    189\u001b[0m         \"\"\"\n\u001b[1;32m--> 190\u001b[1;33m         \u001b[1;32mreturn\u001b[0m \u001b[0mself\u001b[0m\u001b[1;33m.\u001b[0m\u001b[0m_fit\u001b[0m\u001b[1;33m(\u001b[0m\u001b[0mX\u001b[0m\u001b[1;33m,\u001b[0m \u001b[0my\u001b[0m\u001b[1;33m)\u001b[0m\u001b[1;33m\u001b[0m\u001b[1;33m\u001b[0m\u001b[0m\n\u001b[0m\u001b[0;32m    191\u001b[0m \u001b[1;33m\u001b[0m\u001b[0m\n\u001b[0;32m    192\u001b[0m     \u001b[1;32mdef\u001b[0m \u001b[0mpredict\u001b[0m\u001b[1;33m(\u001b[0m\u001b[0mself\u001b[0m\u001b[1;33m,\u001b[0m \u001b[0mX\u001b[0m\u001b[1;33m)\u001b[0m\u001b[1;33m:\u001b[0m\u001b[1;33m\u001b[0m\u001b[1;33m\u001b[0m\u001b[0m\n",
      "\u001b[1;32m~\\anaconda3\\lib\\site-packages\\sklearn\\neighbors\\_base.py\u001b[0m in \u001b[0;36m_fit\u001b[1;34m(self, X, y)\u001b[0m\n\u001b[0;32m    361\u001b[0m         \u001b[1;32mif\u001b[0m \u001b[0mself\u001b[0m\u001b[1;33m.\u001b[0m\u001b[0m_get_tags\u001b[0m\u001b[1;33m(\u001b[0m\u001b[1;33m)\u001b[0m\u001b[1;33m[\u001b[0m\u001b[1;34m\"requires_y\"\u001b[0m\u001b[1;33m]\u001b[0m\u001b[1;33m:\u001b[0m\u001b[1;33m\u001b[0m\u001b[1;33m\u001b[0m\u001b[0m\n\u001b[0;32m    362\u001b[0m             \u001b[1;32mif\u001b[0m \u001b[1;32mnot\u001b[0m \u001b[0misinstance\u001b[0m\u001b[1;33m(\u001b[0m\u001b[0mX\u001b[0m\u001b[1;33m,\u001b[0m \u001b[1;33m(\u001b[0m\u001b[0mKDTree\u001b[0m\u001b[1;33m,\u001b[0m \u001b[0mBallTree\u001b[0m\u001b[1;33m,\u001b[0m \u001b[0mNeighborsBase\u001b[0m\u001b[1;33m)\u001b[0m\u001b[1;33m)\u001b[0m\u001b[1;33m:\u001b[0m\u001b[1;33m\u001b[0m\u001b[1;33m\u001b[0m\u001b[0m\n\u001b[1;32m--> 363\u001b[1;33m                 X, y = self._validate_data(X, y, accept_sparse=\"csr\",\n\u001b[0m\u001b[0;32m    364\u001b[0m                                            multi_output=True)\n\u001b[0;32m    365\u001b[0m \u001b[1;33m\u001b[0m\u001b[0m\n",
      "\u001b[1;32m~\\anaconda3\\lib\\site-packages\\sklearn\\base.py\u001b[0m in \u001b[0;36m_validate_data\u001b[1;34m(self, X, y, reset, validate_separately, **check_params)\u001b[0m\n\u001b[0;32m    431\u001b[0m                 \u001b[0my\u001b[0m \u001b[1;33m=\u001b[0m \u001b[0mcheck_array\u001b[0m\u001b[1;33m(\u001b[0m\u001b[0my\u001b[0m\u001b[1;33m,\u001b[0m \u001b[1;33m**\u001b[0m\u001b[0mcheck_y_params\u001b[0m\u001b[1;33m)\u001b[0m\u001b[1;33m\u001b[0m\u001b[1;33m\u001b[0m\u001b[0m\n\u001b[0;32m    432\u001b[0m             \u001b[1;32melse\u001b[0m\u001b[1;33m:\u001b[0m\u001b[1;33m\u001b[0m\u001b[1;33m\u001b[0m\u001b[0m\n\u001b[1;32m--> 433\u001b[1;33m                 \u001b[0mX\u001b[0m\u001b[1;33m,\u001b[0m \u001b[0my\u001b[0m \u001b[1;33m=\u001b[0m \u001b[0mcheck_X_y\u001b[0m\u001b[1;33m(\u001b[0m\u001b[0mX\u001b[0m\u001b[1;33m,\u001b[0m \u001b[0my\u001b[0m\u001b[1;33m,\u001b[0m \u001b[1;33m**\u001b[0m\u001b[0mcheck_params\u001b[0m\u001b[1;33m)\u001b[0m\u001b[1;33m\u001b[0m\u001b[1;33m\u001b[0m\u001b[0m\n\u001b[0m\u001b[0;32m    434\u001b[0m             \u001b[0mout\u001b[0m \u001b[1;33m=\u001b[0m \u001b[0mX\u001b[0m\u001b[1;33m,\u001b[0m \u001b[0my\u001b[0m\u001b[1;33m\u001b[0m\u001b[1;33m\u001b[0m\u001b[0m\n\u001b[0;32m    435\u001b[0m \u001b[1;33m\u001b[0m\u001b[0m\n",
      "\u001b[1;32m~\\anaconda3\\lib\\site-packages\\sklearn\\utils\\validation.py\u001b[0m in \u001b[0;36minner_f\u001b[1;34m(*args, **kwargs)\u001b[0m\n\u001b[0;32m     61\u001b[0m             \u001b[0mextra_args\u001b[0m \u001b[1;33m=\u001b[0m \u001b[0mlen\u001b[0m\u001b[1;33m(\u001b[0m\u001b[0margs\u001b[0m\u001b[1;33m)\u001b[0m \u001b[1;33m-\u001b[0m \u001b[0mlen\u001b[0m\u001b[1;33m(\u001b[0m\u001b[0mall_args\u001b[0m\u001b[1;33m)\u001b[0m\u001b[1;33m\u001b[0m\u001b[1;33m\u001b[0m\u001b[0m\n\u001b[0;32m     62\u001b[0m             \u001b[1;32mif\u001b[0m \u001b[0mextra_args\u001b[0m \u001b[1;33m<=\u001b[0m \u001b[1;36m0\u001b[0m\u001b[1;33m:\u001b[0m\u001b[1;33m\u001b[0m\u001b[1;33m\u001b[0m\u001b[0m\n\u001b[1;32m---> 63\u001b[1;33m                 \u001b[1;32mreturn\u001b[0m \u001b[0mf\u001b[0m\u001b[1;33m(\u001b[0m\u001b[1;33m*\u001b[0m\u001b[0margs\u001b[0m\u001b[1;33m,\u001b[0m \u001b[1;33m**\u001b[0m\u001b[0mkwargs\u001b[0m\u001b[1;33m)\u001b[0m\u001b[1;33m\u001b[0m\u001b[1;33m\u001b[0m\u001b[0m\n\u001b[0m\u001b[0;32m     64\u001b[0m \u001b[1;33m\u001b[0m\u001b[0m\n\u001b[0;32m     65\u001b[0m             \u001b[1;31m# extra_args > 0\u001b[0m\u001b[1;33m\u001b[0m\u001b[1;33m\u001b[0m\u001b[1;33m\u001b[0m\u001b[0m\n",
      "\u001b[1;32m~\\anaconda3\\lib\\site-packages\\sklearn\\utils\\validation.py\u001b[0m in \u001b[0;36mcheck_X_y\u001b[1;34m(X, y, accept_sparse, accept_large_sparse, dtype, order, copy, force_all_finite, ensure_2d, allow_nd, multi_output, ensure_min_samples, ensure_min_features, y_numeric, estimator)\u001b[0m\n\u001b[0;32m    829\u001b[0m         \u001b[0my\u001b[0m \u001b[1;33m=\u001b[0m \u001b[0my\u001b[0m\u001b[1;33m.\u001b[0m\u001b[0mastype\u001b[0m\u001b[1;33m(\u001b[0m\u001b[0mnp\u001b[0m\u001b[1;33m.\u001b[0m\u001b[0mfloat64\u001b[0m\u001b[1;33m)\u001b[0m\u001b[1;33m\u001b[0m\u001b[1;33m\u001b[0m\u001b[0m\n\u001b[0;32m    830\u001b[0m \u001b[1;33m\u001b[0m\u001b[0m\n\u001b[1;32m--> 831\u001b[1;33m     \u001b[0mcheck_consistent_length\u001b[0m\u001b[1;33m(\u001b[0m\u001b[0mX\u001b[0m\u001b[1;33m,\u001b[0m \u001b[0my\u001b[0m\u001b[1;33m)\u001b[0m\u001b[1;33m\u001b[0m\u001b[1;33m\u001b[0m\u001b[0m\n\u001b[0m\u001b[0;32m    832\u001b[0m \u001b[1;33m\u001b[0m\u001b[0m\n\u001b[0;32m    833\u001b[0m     \u001b[1;32mreturn\u001b[0m \u001b[0mX\u001b[0m\u001b[1;33m,\u001b[0m \u001b[0my\u001b[0m\u001b[1;33m\u001b[0m\u001b[1;33m\u001b[0m\u001b[0m\n",
      "\u001b[1;32m~\\anaconda3\\lib\\site-packages\\sklearn\\utils\\validation.py\u001b[0m in \u001b[0;36mcheck_consistent_length\u001b[1;34m(*arrays)\u001b[0m\n\u001b[0;32m    260\u001b[0m     \u001b[0muniques\u001b[0m \u001b[1;33m=\u001b[0m \u001b[0mnp\u001b[0m\u001b[1;33m.\u001b[0m\u001b[0munique\u001b[0m\u001b[1;33m(\u001b[0m\u001b[0mlengths\u001b[0m\u001b[1;33m)\u001b[0m\u001b[1;33m\u001b[0m\u001b[1;33m\u001b[0m\u001b[0m\n\u001b[0;32m    261\u001b[0m     \u001b[1;32mif\u001b[0m \u001b[0mlen\u001b[0m\u001b[1;33m(\u001b[0m\u001b[0muniques\u001b[0m\u001b[1;33m)\u001b[0m \u001b[1;33m>\u001b[0m \u001b[1;36m1\u001b[0m\u001b[1;33m:\u001b[0m\u001b[1;33m\u001b[0m\u001b[1;33m\u001b[0m\u001b[0m\n\u001b[1;32m--> 262\u001b[1;33m         raise ValueError(\"Found input variables with inconsistent numbers of\"\n\u001b[0m\u001b[0;32m    263\u001b[0m                          \" samples: %r\" % [int(l) for l in lengths])\n\u001b[0;32m    264\u001b[0m \u001b[1;33m\u001b[0m\u001b[0m\n",
      "\u001b[1;31mValueError\u001b[0m: Found input variables with inconsistent numbers of samples: [248, 152]"
     ]
    }
   ],
   "source": [
    "obs_MAPE = []\n",
    "\n",
    "for k in select_k:\n",
    "    new_KNN = knn(n_neighbors = k)\n",
    "    \n",
    "    new_KNN.fit(train_X, train_Y)\n",
    "    validation_pred = new_KNN.predict(vali_X)\n",
    "    \n",
    "    validation_MAPE = MAPE(vali_Y, validation_pred)\n",
    "    obs_MAPE.append(validation_MAPE)\n",
    "\n",
    "# 이걸 해결 하자..?"
   ]
  }
 ],
 "metadata": {
  "kernelspec": {
   "display_name": "Python 3",
   "language": "python",
   "name": "python3"
  },
  "language_info": {
   "codemirror_mode": {
    "name": "ipython",
    "version": 3
   },
   "file_extension": ".py",
   "mimetype": "text/x-python",
   "name": "python",
   "nbconvert_exporter": "python",
   "pygments_lexer": "ipython3",
   "version": "3.8.8"
  }
 },
 "nbformat": 4,
 "nbformat_minor": 5
}
